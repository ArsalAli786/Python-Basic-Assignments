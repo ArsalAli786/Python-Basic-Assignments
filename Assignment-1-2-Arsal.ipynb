{
 "cells": [
  {
   "cell_type": "markdown",
   "metadata": {},
   "source": [
    "# Arsal Ali\n",
    "# Python Batch 3 (9am-12am)\n",
    "# 31 Octobor 2024"
   ]
  },
  {
   "cell_type": "markdown",
   "metadata": {},
   "source": [
    "# 1st Assignment"
   ]
  },
  {
   "cell_type": "code",
   "execution_count": 3,
   "metadata": {},
   "outputs": [
    {
     "name": "stdout",
     "output_type": "stream",
     "text": [
      "Name:\t\tArsal Ali\n",
      "Father's Name:\tShoaib Ahmed\n",
      "Date of Birth:\t07-11-2001\n"
     ]
    }
   ],
   "source": [
    "# Basic Name Print\n",
    "\n",
    "print(\"Name:\\t\\tArsal Ali\\nFather's Name:\\tShoaib Ahmed\\nDate of Birth:\\t07-11-2001\")"
   ]
  },
  {
   "cell_type": "code",
   "execution_count": 4,
   "metadata": {},
   "outputs": [
    {
     "name": "stdout",
     "output_type": "stream",
     "text": [
      "Name: Arsal Ali\n",
      "Father's Name: Shoaib Ahmed\n",
      "Date of Birth: 07-11-2001\n",
      "Country: Pakistan\n",
      "Profession: Software Engineer (Currently Unemployed)\n"
     ]
    }
   ],
   "source": [
    "# Bio\n",
    "\n",
    "name = \"Arsal Ali\"\n",
    "father_name = \"Shoaib Ahmed\"\n",
    "date_of_birth = \"07-11-2001\"\n",
    "country = \"Pakistan\"\n",
    "profession = \"Software Engineer (Currently Unemployed)\"\n",
    "\n",
    "print(f\"Name: {name}\\nFather's Name: {father_name}\\nDate of Birth: {date_of_birth}\\nCountry: {country}\\nProfession: {profession}\")"
   ]
  },
  {
   "cell_type": "code",
   "execution_count": 5,
   "metadata": {},
   "outputs": [
    {
     "name": "stdout",
     "output_type": "stream",
     "text": [
      "Arithmetic Operators:\n",
      "Addition: 15\n",
      "Subtraction: -3\n",
      "Multiplication: 54\n",
      "Division: 0.6666666666666666\n",
      "Floor Division: 0\n",
      "Modulus: 6\n",
      "Exponentiation: 10077696\n",
      "\n",
      "Assignment Operators:\n",
      "c += 6: 12\n",
      "c -= 6: 6\n",
      "c *= 6: 36\n",
      "c /= 6: 6.0\n",
      "c %= 6: 0.0\n",
      "c //= 6: 0.0\n",
      "c **= 6: 0.0\n",
      "\n",
      "Comparison Operators:\n",
      "x == y: False\n",
      "x != y: True\n",
      "x > y: False\n",
      "x < y: True\n",
      "x >= y: False\n",
      "x <= y: True\n",
      "\n",
      "Logical Operators:\n",
      "True and False: False\n",
      "True or False: True\n",
      "not True: False\n"
     ]
    }
   ],
   "source": [
    "# Using all operators\n",
    "\n",
    "a = 6\n",
    "b = 9\n",
    "print(\"Arithmetic Operators:\")\n",
    "print(\"Addition:\", a + b)\n",
    "print(\"Subtraction:\", a - b)\n",
    "print(\"Multiplication:\", a * b)\n",
    "print(\"Division:\", a / b)\n",
    "print(\"Floor Division:\", a // b)\n",
    "print(\"Modulus:\", a % b)\n",
    "print(\"Exponentiation:\", a ** b)\n",
    "\n",
    "c = 6\n",
    "print(\"\\nAssignment Operators:\")\n",
    "c += 6 \n",
    "print(\"c += 6:\", c)\n",
    "c -= 6\n",
    "print(\"c -= 6:\", c)\n",
    "c *= 6\n",
    "print(\"c *= 6:\", c)\n",
    "c /= 6\n",
    "print(\"c /= 6:\", c)\n",
    "c %= 6\n",
    "print(\"c %= 6:\", c)\n",
    "c //= 6\n",
    "print(\"c //= 6:\", c)\n",
    "c **= 6\n",
    "print(\"c **= 6:\", c)\n",
    "\n",
    "x = 6\n",
    "y = 9\n",
    "print(\"\\nComparison Operators:\")\n",
    "print(\"x == y:\", x == y)\n",
    "print(\"x != y:\", x != y)\n",
    "print(\"x > y:\", x > y)\n",
    "print(\"x < y:\", x < y)\n",
    "print(\"x >= y:\", x >= y)\n",
    "print(\"x <= y:\", x <= y)\n",
    "\n",
    "print(\"\\nLogical Operators:\")\n",
    "print(\"True and False:\", True and False)\n",
    "print(\"True or False:\", True or False)\n",
    "print(\"not True:\", not True)"
   ]
  },
  {
   "cell_type": "code",
   "execution_count": null,
   "metadata": {},
   "outputs": [
    {
     "name": "stdout",
     "output_type": "stream",
     "text": [
      "Total Marks: 300\n",
      "Obtained Marks: 207\n",
      "Percentage: 69.0\n"
     ]
    }
   ],
   "source": [
    "# Percentage Calculator\n",
    "\n",
    "try:\n",
    "    english_marks = int(input())\n",
    "    islamiat_marks = int(input())\n",
    "    maths_marks = int(input())\n",
    "\n",
    "    total_marks = 300\n",
    "\n",
    "    obtained_marks = english_marks + islamiat_marks + maths_marks\n",
    "\n",
    "    percentage = (obtained_marks / total_marks) * 100\n",
    "\n",
    "    print(\"Total Marks:\", total_marks)\n",
    "    print(\"Obtained Marks:\", obtained_marks)\n",
    "    print(\"Percentage:\", percentage)\n",
    "    \n",
    "except ValueError:\n",
    "    print('Enter only Numeric Values')"
   ]
  },
  {
   "cell_type": "markdown",
   "metadata": {},
   "source": [
    "# 2nd Assignment"
   ]
  },
  {
   "cell_type": "code",
   "execution_count": 3,
   "metadata": {},
   "outputs": [
    {
     "name": "stdout",
     "output_type": "stream",
     "text": [
      "You qualify for a bonus of 3450.00.\n",
      "Net Salary Amount: 72450.00\n"
     ]
    }
   ],
   "source": [
    "# Bonus on Salary\n",
    "\n",
    "try:\n",
    "    salary = float(input(\"Enter your salary: \"))\n",
    "    years_of_service = int(input(\"Enter your years of service: \"))\n",
    "\n",
    "    if years_of_service > 5:\n",
    "        bonus = salary * 0.05\n",
    "        print(f\"You qualify for a bonus of {bonus:.2f}.\")\n",
    "    else:\n",
    "        bonus = 0\n",
    "        print(\"You do not qualify for a bonus. HeHe\")\n",
    "\n",
    "    print(f\"Net Salary Amount: {salary+bonus:.2f}\")\n",
    "    \n",
    "except ValueError:\n",
    "    print('Enter only Numeric Values')"
   ]
  },
  {
   "cell_type": "code",
   "execution_count": 4,
   "metadata": {},
   "outputs": [
    {
     "name": "stdout",
     "output_type": "stream",
     "text": [
      "You are eligible to vote.\n"
     ]
    }
   ],
   "source": [
    "# Legal Voting age\n",
    "\n",
    "try:\n",
    "    age = int(input(\"Enter your age: \"))\n",
    "\n",
    "    if age > 17:\n",
    "        print(\"You are eligible to vote.\")\n",
    "    else:\n",
    "        print(\"You are not eligible to vote.\")\n",
    "        \n",
    "except ValueError:\n",
    "    print('Enter only Numeric Values')"
   ]
  },
  {
   "cell_type": "code",
   "execution_count": null,
   "metadata": {},
   "outputs": [
    {
     "name": "stdout",
     "output_type": "stream",
     "text": [
      "69 is an odd number.\n"
     ]
    }
   ],
   "source": [
    "# Even Odd\n",
    "\n",
    "try:\n",
    "    number = int(input(\"Enter a number: \"))\n",
    "\n",
    "    if number % 2 == 0:\n",
    "        print(f\"{number} is an even number.\")\n",
    "    else:\n",
    "        print(f\"{number} is an odd number.\")\n",
    "        \n",
    "except ValueError:\n",
    "    print('Enter only Numeric Values')"
   ]
  },
  {
   "cell_type": "code",
   "execution_count": null,
   "metadata": {},
   "outputs": [
    {
     "name": "stdout",
     "output_type": "stream",
     "text": [
      "69 is not divisible by 7.\n"
     ]
    }
   ],
   "source": [
    "# Divisible by 7\n",
    "\n",
    "try:\n",
    "    number = int(input(\"Enter a number: \"))\n",
    "\n",
    "    if number % 7 == 0:\n",
    "        print(f\"{number} is divisible by 7.\")\n",
    "    else:\n",
    "        print(f\"{number} is not divisible by 7.\")\n",
    "        \n",
    "except ValueError:\n",
    "    print('Enter only Numeric Values')"
   ]
  },
  {
   "cell_type": "code",
   "execution_count": null,
   "metadata": {},
   "outputs": [
    {
     "name": "stdout",
     "output_type": "stream",
     "text": [
      "Bye\n"
     ]
    }
   ],
   "source": [
    "# Multiple of 5\n",
    "\n",
    "try:\n",
    "    number = int(input(\"Enter a number: \"))\n",
    "\n",
    "    if number % 5 == 0:\n",
    "        print(\"Hello\")\n",
    "    else:\n",
    "        print(\"Bye\")\n",
    "        \n",
    "except ValueError:\n",
    "    print('Enter only Numeric Values')"
   ]
  },
  {
   "cell_type": "code",
   "execution_count": null,
   "metadata": {},
   "outputs": [
    {
     "name": "stdout",
     "output_type": "stream",
     "text": [
      "The last digit of 69 is 9.\n"
     ]
    }
   ],
   "source": [
    "# Last Digit of a number\n",
    "\n",
    "try:\n",
    "    number = int(input(\"Enter a number: \"))\n",
    "\n",
    "    last_digit = abs(number) % 10\n",
    "\n",
    "    print(f\"The last digit of {number} is {last_digit}.\")\n",
    "    \n",
    "except ValueError:\n",
    "    print('Enter only Numeric Values')"
   ]
  },
  {
   "cell_type": "code",
   "execution_count": null,
   "metadata": {},
   "outputs": [
    {
     "name": "stdout",
     "output_type": "stream",
     "text": [
      "The shape is a square.\n"
     ]
    }
   ],
   "source": [
    "# Square or Rectangle?\n",
    "\n",
    "try:\n",
    "    length = float(input(\"Enter the length of the rectangle: \"))\n",
    "    breadth = float(input(\"Enter the breadth of the rectangle: \"))\n",
    "\n",
    "    if length == breadth:\n",
    "        print(\"The shape is a square.\")\n",
    "    else:\n",
    "        print(\"The shape is a rectangle.\")\n",
    "        \n",
    "except ValueError:\n",
    "    print('Enter only Numeric Values')"
   ]
  },
  {
   "cell_type": "code",
   "execution_count": null,
   "metadata": {},
   "outputs": [
    {
     "name": "stdout",
     "output_type": "stream",
     "text": [
      "Both numbers are equal.\n"
     ]
    }
   ],
   "source": [
    "# Largest among 2\n",
    "\n",
    "try:\n",
    "    num1 = int(input(\"Enter the first integer: \"))\n",
    "    num2 = int(input(\"Enter the second integer: \"))\n",
    "\n",
    "    if num1 > num2:\n",
    "        print(f\"The greatest number is: {num1}\")\n",
    "    elif num2 > num1:\n",
    "        print(f\"The greatest number is: {num2}\")\n",
    "    else:\n",
    "        print(\"Both numbers are equal.\")\n",
    "        \n",
    "except ValueError:\n",
    "    print('Enter only Numeric Values')"
   ]
  },
  {
   "cell_type": "code",
   "execution_count": null,
   "metadata": {},
   "outputs": [
    {
     "name": "stdout",
     "output_type": "stream",
     "text": [
      "Discount applied: 690.00\n",
      "The total cost is: 6210.00\n"
     ]
    }
   ],
   "source": [
    "# Discount at Shop\n",
    "\n",
    "try:\n",
    "    unit_cost = 100\n",
    "    discount_rate = 0.10\n",
    "\n",
    "    quantity = int(input(\"Enter the quantity purchased: \"))\n",
    "\n",
    "    total_cost = quantity * unit_cost\n",
    "\n",
    "    if total_cost > 1000:\n",
    "        discount = total_cost * discount_rate\n",
    "        total_cost -= discount\n",
    "        print(f\"Discount applied: {discount:.2f}\")\n",
    "\n",
    "    print(f\"The total cost is: {total_cost:.2f}\")\n",
    "    \n",
    "except ValueError:\n",
    "    print('Enter only Numeric Values')"
   ]
  },
  {
   "cell_type": "code",
   "execution_count": null,
   "metadata": {},
   "outputs": [
    {
     "name": "stdout",
     "output_type": "stream",
     "text": [
      "Your grade is: B\n"
     ]
    }
   ],
   "source": [
    "# Grade Calculator\n",
    "\n",
    "try:\n",
    "    marks = float(input(\"Enter your marks: \"))\n",
    "\n",
    "    if marks < 25:\n",
    "        grade = 'F'\n",
    "    elif 25 <= marks < 45:\n",
    "        grade = 'E'\n",
    "    elif 45 <= marks < 50:\n",
    "        grade = 'D'\n",
    "    elif 50 <= marks < 60:\n",
    "        grade = 'C'\n",
    "    elif 60 <= marks < 80:\n",
    "        grade = 'B'\n",
    "    elif marks > 80:\n",
    "        grade = 'A'\n",
    "    else:\n",
    "        grade = 'Invalid marks'\n",
    "\n",
    "    print(f\"Your grade is: {grade}\")\n",
    "    \n",
    "except ValueError:\n",
    "    print('Enter only Numeric Values')"
   ]
  },
  {
   "cell_type": "code",
   "execution_count": 5,
   "metadata": {},
   "outputs": [
    {
     "name": "stdout",
     "output_type": "stream",
     "text": [
      "Percentage of classes attended: 98.55%\n",
      "The student is allowed to sit in the exam.\n"
     ]
    }
   ],
   "source": [
    "# Attendence Calculator\n",
    "\n",
    "try:\n",
    "    classes_held = int(input(\"Enter the number of classes held: \"))\n",
    "    classes_attended = int(input(\"Enter the number of classes attended: \"))\n",
    "\n",
    "    if classes_held <= 0:\n",
    "        raise ValueError(\"Total classes must be greater than 0.\")\n",
    "    if classes_attended < 0:\n",
    "        raise ValueError(\"Attended classes must be 0 or more.\")\n",
    "    if classes_attended > classes_held:\n",
    "        raise ValueError(\"Attended classes cannot be more than total classes held.\")\n",
    "\n",
    "    attendance_percentage = (classes_attended / classes_held) * 100\n",
    "    print(f\"Percentage of classes attended: {attendance_percentage:.2f}%\")\n",
    "\n",
    "    if attendance_percentage >= 75:\n",
    "        print(\"The student is allowed to sit in the exam.\")\n",
    "    else:\n",
    "        print(\"The student is not allowed to sit in the exam.\")\n",
    "\n",
    "except ValueError as e:\n",
    "    print(e)"
   ]
  },
  {
   "cell_type": "code",
   "execution_count": 6,
   "metadata": {},
   "outputs": [
    {
     "name": "stdout",
     "output_type": "stream",
     "text": [
      "Percentage of classes attended: 98.55%\n",
      "The student is allowed to sit in the exam.\n"
     ]
    }
   ],
   "source": [
    "# Medical issue \n",
    "\n",
    "try:\n",
    "    classes_held = int(input(\"Enter the number of classes held: \"))\n",
    "    classes_attended = int(input(\"Enter the number of classes attended: \"))\n",
    "\n",
    "    if classes_held <= 0:\n",
    "        raise ValueError(\"Total classes must be greater than 0.\")\n",
    "    if classes_attended < 0:\n",
    "        raise ValueError(\"Attended classes must be 0 or more.\")\n",
    "    if classes_attended > classes_held:\n",
    "        raise ValueError(\"Attended classes cannot be more than total classes held.\")\n",
    "\n",
    "    attendance_percentage = (classes_attended / classes_held) * 100\n",
    "    print(f\"Percentage of classes attended: {attendance_percentage:.2f}%\")\n",
    "\n",
    "    Medical_issue = input(\"Do you have a medical cause? (Y/N): \").strip().upper()\n",
    "    \n",
    "    if attendance_percentage >= 75 or Medical_issue == 'Y':\n",
    "        print(\"The student is allowed to sit in the exam.\")\n",
    "    else:\n",
    "        print(\"The student is not allowed to sit in the exam.\")\n",
    "        \n",
    "except ValueError as e:\n",
    "    print(e)"
   ]
  },
  {
   "cell_type": "code",
   "execution_count": null,
   "metadata": {},
   "outputs": [
    {
     "name": "stdout",
     "output_type": "stream",
     "text": [
      "6969 is not a leap year.\n"
     ]
    }
   ],
   "source": [
    "# Leap Year\n",
    "\n",
    "try:\n",
    "    year = int(input(\"Enter a year: \"))\n",
    "\n",
    "    if (year % 4 == 0 and year % 100 != 0) or (year % 400 == 0):\n",
    "        print(f\"{year} is a leap year.\")\n",
    "    else:\n",
    "        print(f\"{year} is not a leap year.\")\n",
    "        \n",
    "except ValueError:\n",
    "    print('Enter only Numeric Values')"
   ]
  },
  {
   "cell_type": "code",
   "execution_count": 22,
   "metadata": {},
   "outputs": [
    {
     "name": "stdout",
     "output_type": "stream",
     "text": [
      "The employee may work anywhere.\n"
     ]
    }
   ],
   "source": [
    "# Job Placement\n",
    "\n",
    "age = int(input(\"Enter your age: \"))\n",
    "gender = input(\"Enter your gender (M or F): \").strip().upper()\n",
    "marital_status = input(\"Enter your marital status (Y or N): \").strip().upper()\n",
    "\n",
    "if gender == 'F':\n",
    "    print(\"The employee will work in urban areas.\")\n",
    "elif gender == 'M':\n",
    "    if 20 <= age <= 40:\n",
    "        print(\"The employee may work anywhere.\")\n",
    "    elif 40 < age <= 60:\n",
    "        print(\"The employee will work in urban areas only.\")\n",
    "    else:\n",
    "        print(\"ERROR: Age input is invalid.\")\n",
    "else:\n",
    "    print(\"ERROR: Invalid gender input.\")"
   ]
  },
  {
   "cell_type": "code",
   "execution_count": null,
   "metadata": {},
   "outputs": [
    {
     "name": "stdout",
     "output_type": "stream",
     "text": [
      "Total bill amount is Rs.4900\n"
     ]
    }
   ],
   "source": [
    "# Electricity Bill\n",
    "\n",
    "try:\n",
    "    units = int(input(\"Enter the number of units consumed: \"))\n",
    "\n",
    "    bill_amount = 0\n",
    "\n",
    "    if units <= 100:\n",
    "        bill_amount = 0\n",
    "    elif units <= 300:\n",
    "        bill_amount = (units - 100) * 5\n",
    "    else:\n",
    "        bill_amount = 200 * 5 + (units - 300) * 10\n",
    "\n",
    "    print(f\"Total bill amount is Rs.{bill_amount}\")\n",
    "    \n",
    "except ValueError:\n",
    "    print('Enter only Numeric Values')"
   ]
  },
  {
   "cell_type": "code",
   "execution_count": null,
   "metadata": {},
   "outputs": [
    {
     "name": "stdout",
     "output_type": "stream",
     "text": [
      "The oldest person is 69 years old.\n",
      "The youngest person is 7 years old.\n"
     ]
    }
   ],
   "source": [
    "# Oldest and Youngest among 3\n",
    "\n",
    "try:\n",
    "    age1 = int(input(\"Enter the age of the first person: \"))\n",
    "    age2 = int(input(\"Enter the age of the second person: \"))\n",
    "    age3 = int(input(\"Enter the age of the third person: \"))\n",
    "\n",
    "    oldest = max(age1, age2, age3)\n",
    "    youngest = min(age1, age2, age3)\n",
    "\n",
    "    print(f\"The oldest person is {oldest} years old.\")\n",
    "    print(f\"The youngest person is {youngest} years old.\")\n",
    "    \n",
    "except ValueError:\n",
    "    print('Enter only Numeric Values')"
   ]
  }
 ],
 "metadata": {
  "kernelspec": {
   "display_name": "Python 3",
   "language": "python",
   "name": "python3"
  },
  "language_info": {
   "codemirror_mode": {
    "name": "ipython",
    "version": 3
   },
   "file_extension": ".py",
   "mimetype": "text/x-python",
   "name": "python",
   "nbconvert_exporter": "python",
   "pygments_lexer": "ipython3",
   "version": "3.13.0"
  }
 },
 "nbformat": 4,
 "nbformat_minor": 2
}
