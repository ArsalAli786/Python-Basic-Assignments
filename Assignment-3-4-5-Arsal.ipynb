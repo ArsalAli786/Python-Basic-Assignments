{
 "cells": [
  {
   "cell_type": "markdown",
   "metadata": {},
   "source": [
    "# Arsal Ali\n",
    "# Python Batch 3 (9am-12am)\n",
    "# 31 Octobor 2024"
   ]
  },
  {
   "cell_type": "markdown",
   "metadata": {},
   "source": [
    "# 3rd Assignment"
   ]
  },
  {
   "cell_type": "code",
   "execution_count": 1,
   "metadata": {},
   "outputs": [
    {
     "name": "stdout",
     "output_type": "stream",
     "text": [
      "The number of vowels in the string is: 3\n"
     ]
    }
   ],
   "source": [
    "# Vowel Counter\n",
    "\n",
    "input_string = input(\"Enter a string: \")\n",
    "\n",
    "vowels = \"aeiouAEIOU\"\n",
    "\n",
    "vowel_count = 0\n",
    "\n",
    "for char in input_string:\n",
    "    if char in vowels:\n",
    "        vowel_count += 1\n",
    "\n",
    "print(f\"The number of vowels in the string is: {vowel_count}\")"
   ]
  },
  {
   "cell_type": "code",
   "execution_count": 4,
   "metadata": {},
   "outputs": [
    {
     "name": "stdout",
     "output_type": "stream",
     "text": [
      "Number of uppercase letters: 1\n",
      "Number of lowercase letters: 8\n",
      "Number of digits: 2\n",
      "Number of whitespace characters: 2\n"
     ]
    }
   ],
   "source": [
    "# Almost String Paraser\n",
    "\n",
    "input_string = input(\"Enter a string: \")\n",
    "\n",
    "uppercase_count = 0\n",
    "lowercase_count = 0\n",
    "digit_count = 0\n",
    "whitespace_count = 0\n",
    "\n",
    "for char in input_string:\n",
    "    if char.isupper():\n",
    "        uppercase_count += 1\n",
    "    elif char.islower():\n",
    "        lowercase_count += 1\n",
    "    elif char.isdigit():\n",
    "        digit_count += 1\n",
    "    elif char.isspace():\n",
    "        whitespace_count += 1\n",
    "\n",
    "print(f\"Number of uppercase letters: {uppercase_count}\")\n",
    "print(f\"Number of lowercase letters: {lowercase_count}\")\n",
    "print(f\"Number of digits: {digit_count}\")\n",
    "print(f\"Number of whitespace characters: {whitespace_count}\")"
   ]
  },
  {
   "cell_type": "code",
   "execution_count": 6,
   "metadata": {},
   "outputs": [
    {
     "name": "stdout",
     "output_type": "stream",
     "text": [
      "The new string is: eixtyNinS\n"
     ]
    }
   ],
   "source": [
    "# String Modifier\n",
    "\n",
    "input_string = input(\"Enter a string: \")\n",
    "\n",
    "if len(input_string) < 2:\n",
    "    print(\"String must have at least two characters.\")\n",
    "    \n",
    "else:\n",
    "    new_string = input_string[-1] + input_string[1:-1] + input_string[0]\n",
    "    print(f\"The new string is: {new_string}\")"
   ]
  },
  {
   "cell_type": "code",
   "execution_count": null,
   "metadata": {},
   "outputs": [
    {
     "name": "stdout",
     "output_type": "stream",
     "text": [
      "The reversed string is: eniNytxiS\n"
     ]
    }
   ],
   "source": [
    "# Reverse String\n",
    "\n",
    "String = input(\"Enter a string: \")\n",
    "\n",
    "reversed_string = String[::-1]\n",
    "\n",
    "print(f\"The reversed string is: {reversed_string}\")"
   ]
  },
  {
   "cell_type": "code",
   "execution_count": 8,
   "metadata": {},
   "outputs": [
    {
     "name": "stdout",
     "output_type": "stream",
     "text": [
      "The string after shifting one position to the left is: ixtyNineS\n"
     ]
    }
   ],
   "source": [
    "# Left Shifter\n",
    "\n",
    "input_string = input(\"Enter a string: \")\n",
    "\n",
    "if len(input_string) == 0:\n",
    "    print(\"The string is empty.\")\n",
    "else:\n",
    "    shifted_string = input_string[1:] + input_string[0]\n",
    "\n",
    "    print(f\"The string after shifting one position to the left is: {shifted_string}\")"
   ]
  },
  {
   "cell_type": "code",
   "execution_count": 9,
   "metadata": {},
   "outputs": [
    {
     "name": "stdout",
     "output_type": "stream",
     "text": [
      "Your initials are: AAA\n"
     ]
    }
   ],
   "source": [
    "# Initials of String\n",
    "\n",
    "full_name = input(\"Enter your full name (First Middle Last): \")\n",
    "\n",
    "initials = \"\"\n",
    "\n",
    "if full_name[0].isalpha():\n",
    "    initials += full_name[0].upper()\n",
    "\n",
    "for i in range(len(full_name)):\n",
    "    if full_name[i] == ' ' and i + 1 < len(full_name):\n",
    "        initials += full_name[i + 1].upper()\n",
    "\n",
    "print(f\"Your initials are: {initials}\")"
   ]
  },
  {
   "cell_type": "code",
   "execution_count": 11,
   "metadata": {},
   "outputs": [
    {
     "name": "stdout",
     "output_type": "stream",
     "text": [
      "'SixtyNine' is not a palindrome.\n"
     ]
    }
   ],
   "source": [
    "# Palindrome\n",
    "\n",
    "input_string = input(\"Enter a string: \")\n",
    "\n",
    "cleaned_string = input_string.replace(\" \", \"\").lower()\n",
    "\n",
    "start = 0\n",
    "end = len(cleaned_string) - 1\n",
    "\n",
    "is_palindrome = True\n",
    "\n",
    "while start < end:\n",
    "    if cleaned_string[start] != cleaned_string[end]:\n",
    "        is_palindrome = False\n",
    "        break\n",
    "    start += 1\n",
    "    end -= 1\n",
    "    \n",
    "if is_palindrome:\n",
    "    print(f\"'{input_string}' is a palindrome.\")\n",
    "else:\n",
    "    print(f\"'{input_string}' is not a palindrome.\")"
   ]
  },
  {
   "cell_type": "code",
   "execution_count": 12,
   "metadata": {},
   "outputs": [
    {
     "name": "stdout",
     "output_type": "stream",
     "text": [
      "SHIFT\n",
      "SHITF\n",
      "SHFIT\n",
      "SHFTI\n",
      "SHTIF\n"
     ]
    }
   ],
   "source": [
    "# SHIFT Combinations\n",
    "\n",
    "import itertools\n",
    "\n",
    "def display_first_five_combinations(word):\n",
    "    combinations = itertools.permutations(word)\n",
    "    for i, combination in enumerate(combinations):\n",
    "        if i < 5:\n",
    "            print(''.join(combination))\n",
    "        else:\n",
    "            break\n",
    "\n",
    "display_first_five_combinations('SHIFT')"
   ]
  },
  {
   "cell_type": "code",
   "execution_count": 13,
   "metadata": {},
   "outputs": [
    {
     "name": "stdout",
     "output_type": "stream",
     "text": [
      "Password is valid.\n"
     ]
    }
   ],
   "source": [
    "# Password Validation\n",
    "\n",
    "import re\n",
    "\n",
    "def is_valid_password(password):\n",
    "    # Check for at least one uppercase letter, one lowercase letter, and one digit\n",
    "    if (re.search(r'[A-Z]', password) and\n",
    "        re.search(r'[a-z]', password) and\n",
    "        re.search(r'[0-9]', password)):\n",
    "        return True\n",
    "    return False\n",
    "\n",
    "def main():\n",
    "    password = input(\"Enter a password: \")\n",
    "    \n",
    "    if is_valid_password(password):\n",
    "        print(\"Password is valid.\")\n",
    "    else:\n",
    "        print(\"Password must contain at least one uppercase letter, one lowercase letter, and one numeric digit.\")\n",
    "\n",
    "if __name__ == \"__main__\":\n",
    "    main()"
   ]
  },
  {
   "cell_type": "markdown",
   "metadata": {},
   "source": [
    "# 4th Assignment"
   ]
  },
  {
   "cell_type": "code",
   "execution_count": 1,
   "metadata": {},
   "outputs": [
    {
     "name": "stdout",
     "output_type": "stream",
     "text": [
      "Alternate elements are: ['1', '3', '5', '7']\n"
     ]
    }
   ],
   "source": [
    "# Altered List\n",
    "\n",
    "input_list = input(\"Enter a list of elements separated by spaces: \").split()\n",
    "\n",
    "print(\"Alternate elements are:\", input_list[::2])"
   ]
  },
  {
   "cell_type": "code",
   "execution_count": 2,
   "metadata": {},
   "outputs": [
    {
     "name": "stdout",
     "output_type": "stream",
     "text": [
      "Reversed list is: ['7', '6', '5', '4', '3', '2', '1']\n"
     ]
    }
   ],
   "source": [
    "# Reverse List\n",
    "\n",
    "input_list = input(\"Enter elements of the list separated by spaces: \").split()\n",
    "\n",
    "reversed_list = input_list[::-1]\n",
    "\n",
    "print(\"Reversed list is:\", reversed_list)"
   ]
  },
  {
   "cell_type": "code",
   "execution_count": 3,
   "metadata": {},
   "outputs": [
    {
     "name": "stdout",
     "output_type": "stream",
     "text": [
      "The largest number is: 7\n"
     ]
    }
   ],
   "source": [
    "# Largest number in the List\n",
    "\n",
    "input_list = list(map(int, input(\"Enter numbers separated by spaces: \").split()))\n",
    "\n",
    "largest = input_list[0]\n",
    "\n",
    "for num in input_list:\n",
    "    if num > largest:\n",
    "        largest = num\n",
    "\n",
    "print(\"The largest number is:\", largest)"
   ]
  },
  {
   "cell_type": "code",
   "execution_count": 4,
   "metadata": {},
   "outputs": [
    {
     "name": "stdout",
     "output_type": "stream",
     "text": [
      "Rotated list is: ['7', '1', '2', '3', '4', '5', '6']\n"
     ]
    }
   ],
   "source": [
    "# Push 1 index ahead in List\n",
    "\n",
    "input_list = input(\"Enter elements of the list separated by spaces: \").split()\n",
    "\n",
    "rotated_list = [input_list[-1]] + input_list[:-1]\n",
    "\n",
    "print(\"Rotated list is:\", rotated_list)"
   ]
  },
  {
   "cell_type": "code",
   "execution_count": 6,
   "metadata": {},
   "outputs": [
    {
     "name": "stdout",
     "output_type": "stream",
     "text": [
      "Modified sentence: My  is Arsal\n"
     ]
    }
   ],
   "source": [
    "# Sentence Modifier\n",
    "\n",
    "input_string = input(\"Enter a sentence: \")\n",
    "\n",
    "word_to_delete = input(\"Enter the word you want to delete: \")\n",
    "\n",
    "modified_string = input_string.replace(word_to_delete, \"\").strip()\n",
    "\n",
    "print(\"Modified sentence:\", modified_string)"
   ]
  },
  {
   "cell_type": "code",
   "execution_count": 7,
   "metadata": {},
   "outputs": [
    {
     "name": "stdout",
     "output_type": "stream",
     "text": [
      "Formatted date: November 07, 2001\n"
     ]
    }
   ],
   "source": [
    "# Date Printer\n",
    "\n",
    "try:\n",
    "    from datetime import datetime\n",
    "\n",
    "    date_input = input(\"Enter a date in mm/dd/yyyy format: \")\n",
    "\n",
    "    date_object = datetime.strptime(date_input, \"%m/%d/%Y\")\n",
    "\n",
    "    formatted_date = date_object.strftime(\"%B %d, %Y\")\n",
    "    print(\"Formatted date:\", formatted_date)\n",
    "    \n",
    "except ValueError:\n",
    "    print('Value Error')"
   ]
  },
  {
   "cell_type": "code",
   "execution_count": null,
   "metadata": {},
   "outputs": [
    {
     "name": "stdout",
     "output_type": "stream",
     "text": [
      "Formatted string: My Name Is Arsal Ali\n"
     ]
    }
   ],
   "source": [
    "# Camel Case\n",
    "\n",
    "def capitalize_words(input_string):\n",
    "    capitalized_string = ' '.join(word.capitalize() for word in input_string.split())\n",
    "    return capitalized_string\n",
    "user_input = input(\"Enter a sentence: \")\n",
    "\n",
    "formatted_string = capitalize_words(user_input)\n",
    "print(\"Formatted string:\", formatted_string)"
   ]
  },
  {
   "cell_type": "code",
   "execution_count": 9,
   "metadata": {},
   "outputs": [
    {
     "name": "stdout",
     "output_type": "stream",
     "text": [
      "Enter the elements of the matrix row by row:\n",
      "Sum of row 1: 3\n",
      "Sum of row 2: 3\n"
     ]
    }
   ],
   "source": [
    "# Matrix Row Sum\n",
    "\n",
    "m = int(input(\"Enter the number of rows (m): \"))\n",
    "n = int(input(\"Enter the number of columns (n): \"))\n",
    "\n",
    "matrix = []\n",
    "\n",
    "print(\"Enter the elements of the matrix row by row:\")\n",
    "for i in range(m):\n",
    "    row = list(map(int, input().split()))\n",
    "    matrix.append(row)\n",
    "\n",
    "for i in range(m):\n",
    "    row_sum = sum(matrix[i])\n",
    "    print(f\"Sum of row {i + 1}: {row_sum}\")"
   ]
  },
  {
   "cell_type": "code",
   "execution_count": 10,
   "metadata": {},
   "outputs": [
    {
     "name": "stdout",
     "output_type": "stream",
     "text": [
      "Enter the elements of the first matrix row by row:\n",
      "Enter the elements of the second matrix row by row:\n",
      "Resultant Matrix:\n",
      "2 4\n",
      "2 4\n"
     ]
    }
   ],
   "source": [
    "# Matrix Addition\n",
    "\n",
    "m = int(input(\"Enter the number of rows (m): \"))\n",
    "n = int(input(\"Enter the number of columns (n): \"))\n",
    "\n",
    "matrix1 = []\n",
    "print(\"Enter the elements of the first matrix row by row:\")\n",
    "for i in range(m):\n",
    "    row = list(map(int, input().split()))\n",
    "    matrix1.append(row)\n",
    "\n",
    "matrix2 = []\n",
    "print(\"Enter the elements of the second matrix row by row:\")\n",
    "for i in range(m):\n",
    "    row = list(map(int, input().split()))\n",
    "    matrix2.append(row)\n",
    "\n",
    "result_matrix = []\n",
    "\n",
    "for i in range(m):\n",
    "    result_row = []\n",
    "    for j in range(n):\n",
    "        result_row.append(matrix1[i][j] + matrix2[i][j])\n",
    "    result_matrix.append(result_row)\n",
    "\n",
    "print(\"Resultant Matrix:\")\n",
    "for row in result_matrix:\n",
    "    print(\" \".join(map(str, row)))"
   ]
  },
  {
   "cell_type": "code",
   "execution_count": 11,
   "metadata": {},
   "outputs": [
    {
     "name": "stdout",
     "output_type": "stream",
     "text": [
      "Enter the elements of the first matrix row by row:\n",
      "Enter the elements of the second matrix row by row:\n",
      "Resultant Matrix:\n",
      "3 6\n",
      "3 6\n"
     ]
    }
   ],
   "source": [
    "# Matrix Multiplication\n",
    "\n",
    "m = int(input(\"Enter the number of rows for the first matrix (m): \"))\n",
    "n = int(input(\"Enter the number of columns for the first matrix (n): \"))\n",
    "\n",
    "matrix1 = []\n",
    "print(\"Enter the elements of the first matrix row by row:\")\n",
    "for i in range(m):\n",
    "    row = list(map(int, input().split()))\n",
    "    matrix1.append(row)\n",
    "\n",
    "p = int(input(\"Enter the number of columns for the second matrix (p): \"))\n",
    "\n",
    "matrix2 = []\n",
    "print(\"Enter the elements of the second matrix row by row:\")\n",
    "for i in range(n):\n",
    "    row = list(map(int, input().split()))\n",
    "    matrix2.append(row)\n",
    "\n",
    "result_matrix = [[0 for _ in range(p)] for _ in range(m)]\n",
    "\n",
    "for i in range(m):\n",
    "    for j in range(p):\n",
    "        for k in range(n):\n",
    "            result_matrix[i][j] += matrix1[i][k] * matrix2[k][j]\n",
    "\n",
    "print(\"Resultant Matrix:\")\n",
    "for row in result_matrix:\n",
    "    print(\" \".join(map(str, row)))"
   ]
  },
  {
   "cell_type": "markdown",
   "metadata": {},
   "source": [
    "# 5th Assignment"
   ]
  },
  {
   "cell_type": "code",
   "execution_count": 12,
   "metadata": {},
   "outputs": [
    {
     "name": "stdout",
     "output_type": "stream",
     "text": [
      "1\n",
      "2\n",
      "3\n",
      "4\n",
      "5\n",
      "6\n",
      "7\n",
      "8\n",
      "9\n",
      "10\n"
     ]
    }
   ],
   "source": [
    "# Basic FOR Loop\n",
    "\n",
    "for i in range(1, 11):\n",
    "    print(i)"
   ]
  },
  {
   "cell_type": "code",
   "execution_count": 13,
   "metadata": {},
   "outputs": [
    {
     "name": "stdout",
     "output_type": "stream",
     "text": [
      "20\n",
      "19\n",
      "18\n",
      "17\n",
      "16\n",
      "15\n",
      "14\n",
      "13\n",
      "12\n",
      "11\n",
      "10\n",
      "9\n",
      "8\n",
      "7\n",
      "6\n",
      "5\n",
      "4\n",
      "3\n",
      "2\n",
      "1\n"
     ]
    }
   ],
   "source": [
    "# Basic FOR Loop in Reverse\n",
    "\n",
    "for i in range(20, 0, -1):\n",
    "    print(i)"
   ]
  },
  {
   "cell_type": "code",
   "execution_count": 14,
   "metadata": {},
   "outputs": [
    {
     "name": "stdout",
     "output_type": "stream",
     "text": [
      "2\n",
      "4\n",
      "6\n",
      "8\n",
      "10\n"
     ]
    }
   ],
   "source": [
    "# Basic FOR Loop for even Numbers\n",
    "\n",
    "for i in range(2, 11, 2):\n",
    "    print(i)"
   ]
  },
  {
   "cell_type": "code",
   "execution_count": 16,
   "metadata": {},
   "outputs": [
    {
     "name": "stdout",
     "output_type": "stream",
     "text": [
      "1\n",
      "2\n",
      "3\n",
      "4\n",
      "5\n",
      "6\n",
      "7\n",
      "8\n",
      "9\n",
      "10\n",
      "11\n",
      "12\n",
      "13\n"
     ]
    }
   ],
   "source": [
    "# For Loop with Input\n",
    "\n",
    "n = int(input(\"Enter a number: \"))\n",
    "\n",
    "for i in range(1, n + 1):\n",
    "    print(i)"
   ]
  },
  {
   "cell_type": "code",
   "execution_count": 17,
   "metadata": {},
   "outputs": [
    {
     "name": "stdout",
     "output_type": "stream",
     "text": [
      "1\n",
      "3\n",
      "5\n",
      "7\n",
      "9\n",
      "11\n",
      "13\n"
     ]
    }
   ],
   "source": [
    "# For Loop with Input and Odd Numbers\n",
    "\n",
    "n = int(input(\"Enter a number: \"))\n",
    "\n",
    "for i in range(1, n + 1, 2):\n",
    "    print(i)"
   ]
  },
  {
   "cell_type": "code",
   "execution_count": 18,
   "metadata": {},
   "outputs": [
    {
     "name": "stdout",
     "output_type": "stream",
     "text": [
      "Happy Birthday\n",
      "Happy Birthday\n",
      "Happy Birthday\n",
      "Happy Birthday\n",
      "Happy Birthday\n"
     ]
    }
   ],
   "source": [
    "# Happy Birthday Arsal (7th Nov)\n",
    "\n",
    "for i in range(5):\n",
    "    print(\"Happy Birthday\")"
   ]
  },
  {
   "cell_type": "code",
   "execution_count": 19,
   "metadata": {},
   "outputs": [
    {
     "name": "stdout",
     "output_type": "stream",
     "text": [
      "1\n",
      "4\n",
      "9\n",
      "16\n",
      "25\n",
      "36\n",
      "49\n"
     ]
    }
   ],
   "source": [
    "# Series by Natural Square\n",
    "\n",
    "n = int(input(\"Enter the number of terms: \"))\n",
    "\n",
    "for i in range(1, n + 1):\n",
    "    print(i ** 2)"
   ]
  },
  {
   "cell_type": "code",
   "execution_count": 2,
   "metadata": {},
   "outputs": [
    {
     "name": "stdout",
     "output_type": "stream",
     "text": [
      "Multiplication Table for 69:\n",
      "69 x 1 = 69\n",
      "69 x 2 = 138\n",
      "69 x 3 = 207\n",
      "69 x 4 = 276\n",
      "69 x 5 = 345\n",
      "69 x 6 = 414\n",
      "69 x 7 = 483\n",
      "69 x 8 = 552\n",
      "69 x 9 = 621\n",
      "69 x 10 = 690\n"
     ]
    }
   ],
   "source": [
    "# Multiplication Table\n",
    "\n",
    "try:\n",
    "    number = int(input(\"Enter a number: \"))\n",
    "\n",
    "    print(f\"Multiplication Table for {number}:\")\n",
    "    for i in range(1, 11):\n",
    "        print(f\"{number} x {i} = {number * i}\")\n",
    "except ValueError:\n",
    "    print('Enter a number, no string or invalid charachter')"
   ]
  },
  {
   "cell_type": "code",
   "execution_count": 21,
   "metadata": {},
   "outputs": [
    {
     "name": "stdout",
     "output_type": "stream",
     "text": [
      "First 8 terms of the arithmetic progression:\n",
      "3\n",
      "7\n",
      "11\n",
      "15\n",
      "19\n",
      "23\n",
      "27\n",
      "31\n"
     ]
    }
   ],
   "source": [
    "# 4's table but staring with 3\n",
    "\n",
    "first_term = 3\n",
    "common_difference = 4\n",
    "\n",
    "num_terms = 8\n",
    "\n",
    "print(\"First 8 terms of the arithmetic progression:\")\n",
    "for i in range(num_terms):\n",
    "    term = first_term + i * common_difference\n",
    "    print(term)"
   ]
  },
  {
   "cell_type": "code",
   "execution_count": 22,
   "metadata": {},
   "outputs": [
    {
     "name": "stdout",
     "output_type": "stream",
     "text": [
      "First 6 terms of the geometric sequence:\n",
      "2\n",
      "6\n",
      "18\n",
      "54\n",
      "162\n",
      "486\n"
     ]
    }
   ],
   "source": [
    "# Geometric Sequence with a common ratio of 3\n",
    "\n",
    "first_term = 2\n",
    "common_ratio = 3\n",
    "\n",
    "num_terms = 6\n",
    "\n",
    "print(\"First 6 terms of the geometric sequence:\")\n",
    "for i in range(num_terms):\n",
    "    term = first_term * (common_ratio ** i)\n",
    "    print(term)"
   ]
  },
  {
   "cell_type": "code",
   "execution_count": null,
   "metadata": {},
   "outputs": [
    {
     "name": "stdout",
     "output_type": "stream",
     "text": [
      "The sum of all numbers from 1 to 12 is: 78\n"
     ]
    }
   ],
   "source": [
    "# Factorial but with Additon instead of Multiplication\n",
    "\n",
    "while True:\n",
    "    try:\n",
    "        n = int(input(\"Enter a positive integer: \"))\n",
    "        if n > 0:\n",
    "            break\n",
    "        else:\n",
    "            print(\"Please enter a positive integer.\")\n",
    "    except ValueError:\n",
    "        print(\"Invalid input. Please enter a valid positive integer.\")\n",
    "\n",
    "total_sum = 0\n",
    "for i in range(1, n + 1):\n",
    "    total_sum += i\n",
    "\n",
    "print(f\"The sum of all numbers from 1 to {n} is: {total_sum}\")"
   ]
  },
  {
   "cell_type": "code",
   "execution_count": null,
   "metadata": {},
   "outputs": [
    {
     "name": "stdout",
     "output_type": "stream",
     "text": [
      "The sum of all reciprocals from 1 to 12 is: 3.103210678210678\n"
     ]
    }
   ],
   "source": [
    "# Reciprocals Sum\n",
    "\n",
    "while True:\n",
    "    try:\n",
    "        n = int(input(\"Enter a positive integer: \"))\n",
    "        if n > 0:\n",
    "            break\n",
    "        else:\n",
    "            print(\"Please enter a positive integer.\")\n",
    "    except ValueError:\n",
    "        print(\"Invalid input. Please enter a valid positive integer.\")\n",
    "\n",
    "reciprocal_sum = 0.0\n",
    "for i in range(1, n + 1):\n",
    "    reciprocal_sum += 1 / i\n",
    "\n",
    "print(f\"The sum of all reciprocals from 1 to {n} is: {reciprocal_sum}\")"
   ]
  },
  {
   "cell_type": "code",
   "execution_count": null,
   "metadata": {},
   "outputs": [
    {
     "name": "stdout",
     "output_type": "stream",
     "text": [
      "The total sum of the entered numbers is: 510.0\n"
     ]
    }
   ],
   "source": [
    "# Sum of all 5 Inputs \n",
    "\n",
    "total_sum = 0\n",
    "\n",
    "for i in range(5):\n",
    "    while True:\n",
    "        try:\n",
    "            number = float(input(f\"Enter number {i + 1}: \"))\n",
    "            break\n",
    "        except ValueError:\n",
    "            print(\"Invalid input. Please enter a valid number.\")\n",
    "    total_sum += number\n",
    "\n",
    "print(f\"The total sum of the entered numbers is: {total_sum}\")"
   ]
  },
  {
   "cell_type": "code",
   "execution_count": 28,
   "metadata": {},
   "outputs": [
    {
     "name": "stdout",
     "output_type": "stream",
     "text": [
      "The factorial of 7 is: 5040\n"
     ]
    }
   ],
   "source": [
    "# Basic Factorial\n",
    "\n",
    "def factorial(n):\n",
    "    if n == 0 or n == 1:\n",
    "        return 1\n",
    "    else:\n",
    "        return n * factorial(n - 1)\n",
    "\n",
    "number = int(input(\"Enter a positive integer: \"))\n",
    "\n",
    "if number < 0:\n",
    "    print(\"Factorial is not defined for negative numbers.\")\n",
    "else:\n",
    "\n",
    "    result = factorial(number)\n",
    "\n",
    "    print(f\"The factorial of {number} is: {result}\")"
   ]
  },
  {
   "cell_type": "code",
   "execution_count": 1,
   "metadata": {},
   "outputs": [
    {
     "name": "stdout",
     "output_type": "stream",
     "text": [
      "69.0 raised to the power of 7 is: 7446353252589.0\n"
     ]
    }
   ],
   "source": [
    "# Base and Exponents\n",
    "\n",
    "while True:\n",
    "    try:\n",
    "        base = float(input(\"Enter the base: \"))\n",
    "        break\n",
    "    except ValueError:\n",
    "        print(\"Invalid input. Please enter a valid number for the base.\")\n",
    "\n",
    "while True:\n",
    "    try:\n",
    "        exponent = int(input(\"Enter the exponent: \"))\n",
    "        break\n",
    "    except ValueError:\n",
    "        print(\"Invalid input. Please enter a valid integer for the exponent.\")\n",
    "\n",
    "result = 1\n",
    "if exponent < 0:\n",
    "    for _ in range(-exponent):\n",
    "        result *= 1 / base\n",
    "else:\n",
    "    for _ in range(exponent):\n",
    "        result *= base\n",
    "\n",
    "print(f\"{base} raised to the power of {exponent} is: {result}\")"
   ]
  }
 ],
 "metadata": {
  "kernelspec": {
   "display_name": "Python 3",
   "language": "python",
   "name": "python3"
  },
  "language_info": {
   "codemirror_mode": {
    "name": "ipython",
    "version": 3
   },
   "file_extension": ".py",
   "mimetype": "text/x-python",
   "name": "python",
   "nbconvert_exporter": "python",
   "pygments_lexer": "ipython3",
   "version": "3.13.0"
  }
 },
 "nbformat": 4,
 "nbformat_minor": 2
}
